{
 "cells": [
  {
   "cell_type": "code",
   "execution_count": 2,
   "id": "6c25b9a4",
   "metadata": {
    "scrolled": false
   },
   "outputs": [
    {
     "data": {
      "text/plain": [
       "<_io.TextIOWrapper name='example.tsv' mode='r' encoding='cp1251'>"
      ]
     },
     "execution_count": 2,
     "metadata": {},
     "output_type": "execute_result"
    }
   ],
   "source": [
    "open('example.tsv')"
   ]
  },
  {
   "cell_type": "code",
   "execution_count": 8,
   "id": "1a29617b",
   "metadata": {},
   "outputs": [
    {
     "data": {
      "text/plain": [
       "['https://yandex.ru', 'РЇРЅРґРµРєСЃ']"
      ]
     },
     "execution_count": 8,
     "metadata": {},
     "output_type": "execute_result"
    }
   ],
   "source": [
    "    file = open('example.tsv', 'r')\n",
    "    a = file.readline()\n",
    "      \n",
    "    # The first line consist of headings of the record \n",
    "    # so we will store it in an array and move to \n",
    "    # next line in input_file.\n",
    "    titles = [t.strip() for t in a.split('\\t')]\n",
    "    \n",
    "    titles"
   ]
  },
  {
   "cell_type": "code",
   "execution_count": 13,
   "id": "02c0c68b",
   "metadata": {},
   "outputs": [
    {
     "name": "stdout",
     "output_type": "stream",
     "text": [
      "https://yandex.ru\n",
      "РЇРЅРґРµРєСЃ\n",
      "https://vk.com\n",
      "Р’РєРѕРЅС‚Р°РєС‚Рµ\n",
      "https://weibo.com\n",
      "https://tiktok.com\n",
      "РўРёРєС‚РѕРє\n"
     ]
    }
   ],
   "source": [
    "input_filename = 'example.tsv'\n",
    "output_filename = 'example.json'\n",
    "\n",
    "import json\n",
    "  \n",
    "def tsv2json(input_file,output_file):\n",
    "    arr = []\n",
    "    file = open(input_file, 'r')\n",
    "      \n",
    "    # The first line consist of headings of the record \n",
    "    # so we will store it in an array and move to \n",
    "    # next line in input_file.\n",
    "    titles = ['url', 'title']\n",
    "    for line in file:\n",
    "        d = {}\n",
    "        for t, f in zip(titles, line.split('\\t')):\n",
    "            \n",
    "              # Convert each row into dictionary with keys as titles\n",
    "                \n",
    "            d[t] = f.strip()\n",
    "            \n",
    "            print(d[t])\n",
    "            \n",
    "        # we will use strip to remove '\\n'.\n",
    "        arr.append(d)\n",
    "          \n",
    "        # we will append all the individual dictionaires into list \n",
    "        # and dump into file.\n",
    "    with open(output_file, 'w', encoding='cp1252') as output_file:\n",
    "        output_file.write(json.dumps(arr, indent=2))\n",
    "  \n",
    "# Driver Code\n",
    "tsv2json(input_filename,output_filename)\n"
   ]
  }
 ],
 "metadata": {
  "kernelspec": {
   "display_name": "Python 3 (ipykernel)",
   "language": "python",
   "name": "python3"
  },
  "language_info": {
   "codemirror_mode": {
    "name": "ipython",
    "version": 3
   },
   "file_extension": ".py",
   "mimetype": "text/x-python",
   "name": "python",
   "nbconvert_exporter": "python",
   "pygments_lexer": "ipython3",
   "version": "3.9.7"
  }
 },
 "nbformat": 4,
 "nbformat_minor": 5
}
