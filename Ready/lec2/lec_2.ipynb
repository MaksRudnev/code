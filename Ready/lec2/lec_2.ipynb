{
 "cells": [
  {
   "cell_type": "code",
   "execution_count": 5,
   "id": "35bf158c",
   "metadata": {},
   "outputs": [],
   "source": [
    "import numpy as np\n",
    "from numpy.linalg import *\n",
    "from matplotlib import pyplot as plt\n",
    "from scipy import optimize as opt\n"
   ]
  },
  {
   "cell_type": "markdown",
   "id": "97e5a292",
   "metadata": {},
   "source": [
    "## Task 1 ##"
   ]
  },
  {
   "cell_type": "code",
   "execution_count": 17,
   "id": "a7de5f43",
   "metadata": {},
   "outputs": [
    {
     "data": {
      "image/png": "[encoded data removed]",
      "text/plain": [
       "<Figure size 432x288 with 1 Axes>"
      ]
     },
     "metadata": {
      "needs_background": "light"
     },
     "output_type": "display_data"
    }
   ],
   "source": [
    "# .1-3\n",
    "\n",
    "# def f(x): return x**2 + (x+1)**(-3) + 2*np.exp(-x/100) + 37*np.cos(x) # custom\n",
    "def f(x): return np.sin(x / 5) * np.exp(x / 10) + 5 * np.exp(-x / 2) # example\n",
    "#def f(x): return np.tan(x)\n",
    "\n",
    "\n",
    "x = np.linspace(1, 30, 100)\n",
    "plt.plot(x, f(x), color='red')\n",
    "plt.show()"
   ]
  },
  {
   "cell_type": "code",
   "execution_count": 16,
   "id": "8caa7c25",
   "metadata": {},
   "outputs": [
    {
     "data": {
      "text/plain": [
       "      fun: 1.7452682905857713\n",
       " hess_inv: array([[5.94248075]])\n",
       "      jac: array([-9.16421413e-06])\n",
       "  message: 'Optimization terminated successfully.'\n",
       "     nfev: 12\n",
       "      nit: 5\n",
       "     njev: 6\n",
       "   status: 0\n",
       "  success: True\n",
       "        x: array([4.13623333])"
      ]
     },
     "execution_count": 16,
     "metadata": {},
     "output_type": "execute_result"
    }
   ],
   "source": [
    "# .4-5\n",
    "\n",
    "opt.minimize(f, x0=23)\n",
    "#opt.minimize(f, x0=2)"
   ]
  },
  {
   "cell_type": "code",
   "execution_count": 19,
   "id": "87a5720d",
   "metadata": {},
   "outputs": [
    {
     "data": {
      "text/plain": [
       "      fun: 1.7452682903447336\n",
       " hess_inv: array([[5.98752645]])\n",
       "      jac: array([-2.04145908e-06])\n",
       "  message: 'Optimization terminated successfully.'\n",
       "     nfev: 14\n",
       "      nit: 6\n",
       "     njev: 7\n",
       "   status: 0\n",
       "  success: True\n",
       "        x: array([4.13627628])"
      ]
     },
     "execution_count": 19,
     "metadata": {},
     "output_type": "execute_result"
    }
   ],
   "source": [
    "opt.minimize(f, x0=2, method='BFGS')"
   ]
  },
  {
   "cell_type": "code",
   "execution_count": 61,
   "id": "6f6988ae",
   "metadata": {},
   "outputs": [],
   "source": [
    "r = opt.minimize(f, x0=30, method='BFGS')\n",
    "\n",
    "results = open('results_2-1.txt', 'w')\n",
    "results.write(str(np.round(f(r.x[0]), 2)))\n",
    "results.close()"
   ]
  },
  {
   "cell_type": "markdown",
   "id": "a96c21f4",
   "metadata": {},
   "source": [
    "## Task 2 ##"
   ]
  },
  {
   "cell_type": "code",
   "execution_count": 62,
   "id": "c36a31fb",
   "metadata": {},
   "outputs": [],
   "source": [
    "r = opt.differential_evolution(f, [[1,30]])\n",
    "\n",
    "results = open('results_2-2.txt', 'w')\n",
    "results.write(str(np.round(f(r.x[0]), 2)))\n",
    "results.close()"
   ]
  },
  {
   "cell_type": "markdown",
   "id": "dfbd3f1a",
   "metadata": {},
   "source": [
    "## Task 3 ##"
   ]
  },
  {
   "cell_type": "code",
   "execution_count": 54,
   "id": "27e95a4c",
   "metadata": {},
   "outputs": [
    {
     "data": {
      "image/png": "[encoded data removed]",
      "text/plain": [
       "<Figure size 432x288 with 1 Axes>"
      ]
     },
     "metadata": {
      "needs_background": "light"
     },
     "output_type": "display_data"
    }
   ],
   "source": [
    "def h(x): return int(f(x))\n",
    "\n",
    "x = np.linspace(1, 30, 100)\n",
    "plt.plot(x, f(x), color='red')\n",
    "plt.plot(x, f(x).astype('int'), color='blue')  # astype for repr goals\n",
    "plt.show()"
   ]
  },
  {
   "cell_type": "code",
   "execution_count": 63,
   "id": "a64e36b6",
   "metadata": {},
   "outputs": [
    {
     "data": {
      "text/plain": [
       "3"
      ]
     },
     "execution_count": 63,
     "metadata": {},
     "output_type": "execute_result"
    }
   ],
   "source": [
    "r = opt.minimize(h, x0=30, method='BFGS')\n",
    "\n",
    "results = open('results_2-3.txt', 'w')\n",
    "results.write(str(np.round(h(r.x[0]), 2)) + ' ')"
   ]
  },
  {
   "cell_type": "code",
   "execution_count": 65,
   "id": "14b843e8",
   "metadata": {},
   "outputs": [],
   "source": [
    "r = opt.differential_evolution(h, [[1,30]])\n",
    "results.write(str(np.round(h(r.x[0]), 2)) + ' ')\n",
    "results.close()"
   ]
  }
 ],
 "metadata": {
  "kernelspec": {
   "display_name": "Python 3",
   "language": "python",
   "name": "python3"
  },
  "language_info": {
   "codemirror_mode": {
    "name": "ipython",
    "version": 3
   },
   "file_extension": ".py",
   "mimetype": "text/x-python",
   "name": "python",
   "nbconvert_exporter": "python",
   "pygments_lexer": "ipython3",
   "version": "3.8.8"
  }
 },
 "nbformat": 4,
 "nbformat_minor": 5
}
