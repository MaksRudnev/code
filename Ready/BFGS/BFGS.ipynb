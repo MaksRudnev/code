{
 "cells": [
  {
   "cell_type": "code",
   "execution_count": 1,
   "id": "d854ad84",
   "metadata": {},
   "outputs": [
    {
     "name": "stdout",
     "output_type": "stream",
     "text": [
      "\n",
      "--------------BFGS--------------\n",
      "      fun: 0.8084928287628399\n",
      " hess_inv: array([[2.67940601]])\n",
      "      jac: array([1.29640102e-06])\n",
      "  message: 'Optimization terminated successfully.'\n",
      "     nfev: 16\n",
      "      nit: 3\n",
      "     njev: 8\n",
      "   status: 0\n",
      "  success: True\n",
      "        x: array([5.79905955])\n",
      "\n",
      "--------------BFGS--------------\n",
      "      fun: -2.364154259628563\n",
      " hess_inv: array([[2.2915244]])\n",
      "      jac: array([1.49011612e-07])\n",
      "  message: 'Optimization terminated successfully.'\n",
      "     nfev: 10\n",
      "      nit: 4\n",
      "     njev: 5\n",
      "   status: 0\n",
      "  success: True\n",
      "        x: array([30.17453304])\n",
      "\n",
      "--------------differential_evolution--------------\n",
      "     fun: -3.970666385359724\n",
      "     jac: array([-3.55271338e-07])\n",
      " message: 'Optimization terminated successfully.'\n",
      "    nfev: 96\n",
      "     nit: 5\n",
      " success: True\n",
      "       x: array([19.71143514])\n",
      "\n",
      "--------------BFGS INT--------------\n",
      "      fun: -2\n",
      " hess_inv: array([[1]])\n",
      "      jac: array([0.])\n",
      "  message: 'Optimization terminated successfully.'\n",
      "     nfev: 2\n",
      "      nit: 0\n",
      "     njev: 1\n",
      "   status: 0\n",
      "  success: True\n",
      "        x: array([30.])\n",
      "\n",
      "--------------differential_evolution_INT--------------\n",
      "     fun: -3.0\n",
      " message: 'Optimization terminated successfully.'\n",
      "    nfev: 77\n",
      "     nit: 4\n",
      " success: True\n",
      "       x: array([19.12084925])\n"
     ]
    },
    {
     "data": {
      "image/png": "[encoded data removed]",
      "text/plain": [
       "<Figure size 432x288 with 1 Axes>"
      ]
     },
     "metadata": {
      "needs_background": "light"
     },
     "output_type": "display_data"
    }
   ],
   "source": [
    "import numpy as np\n",
    "import matplotlib.pyplot as mpl\n",
    "from scipy import optimize as scp\n",
    "\n",
    "def f(x):\n",
    "\ta = 3 * np.sin(x/5) + 2 * np.cos(x/2) \n",
    "\treturn float(a)\n",
    "\n",
    "\n",
    "def f_int(x):\n",
    "\treturn int(f(x))\n",
    "\n",
    "x_ = np.linspace(1, 30, num=1000)\n",
    "\n",
    "y_real = []\n",
    "for x in x_:\n",
    "\ty_real.append(f(x))\n",
    "\n",
    "y_int_real = []\n",
    "for x in x_:\n",
    "\ty_int_real.append(f_int(x))\n",
    "\t\n",
    "\n",
    "s = open(\"2.txt\", \"w\")\n",
    "\n",
    "\n",
    "s.write(str(round(scp.minimize(f, 2, method='BFGS')['fun'], 2)) + \" \")\n",
    "s.write(str(round(scp.minimize(f, 30, method='BFGS')['fun'], 2)) + \"\\n\")\n",
    "\n",
    "\n",
    "s.write(str(round(scp.differential_evolution(f, [(1, 30)])['fun'], 2)) + \"\\n\")\n",
    "\n",
    "\n",
    "s.write(str(round(scp.minimize(f_int, 30, method='BFGS')['fun'], 2)) + \" \")\n",
    "s.write(str(round(scp.differential_evolution(f_int, [(1, 30)])['fun'], 2)))\n",
    "\n",
    "\n",
    "print( \"\\n\" + \"--------------BFGS--------------\")\n",
    "print(scp.minimize(f, 2, method='BFGS'))\n",
    "print( \"\\n\" + \"--------------BFGS--------------\")\n",
    "print(scp.minimize(f, 30, method='BFGS'))\n",
    "print( \"\\n\" + \"--------------differential_evolution--------------\")\n",
    "print(scp.differential_evolution(f, [(2, 30)]))\n",
    "print( \"\\n\" + \"--------------BFGS INT--------------\")\n",
    "print(scp.minimize(f_int, 30, method='BFGS'))\n",
    "print( \"\\n\" +  \"--------------differential_evolution_INT--------------\")\n",
    "print(scp.differential_evolution(f_int, [(1, 30)]))\n",
    "s.close()\n",
    "\n",
    "mpl.plot(x_, y_real)\n",
    "mpl.plot(x_, y_int_real)\n",
    "mpl.show()"
   ]
  },
  {
   "cell_type": "code",
   "execution_count": null,
   "id": "33412d6e",
   "metadata": {},
   "outputs": [],
   "source": []
  }
 ],
 "metadata": {
  "kernelspec": {
   "display_name": "Python 3 (ipykernel)",
   "language": "python",
   "name": "python3"
  },
  "language_info": {
   "codemirror_mode": {
    "name": "ipython",
    "version": 3
   },
   "file_extension": ".py",
   "mimetype": "text/x-python",
   "name": "python",
   "nbconvert_exporter": "python",
   "pygments_lexer": "ipython3",
   "version": "3.9.7"
  }
 },
 "nbformat": 4,
 "nbformat_minor": 5
}
