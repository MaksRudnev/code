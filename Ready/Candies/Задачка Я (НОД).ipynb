{
 "cells": [
  {
   "cell_type": "code",
   "execution_count": 5,
   "id": "0b4ddbeb",
   "metadata": {},
   "outputs": [
    {
     "name": "stdout",
     "output_type": "stream",
     "text": [
      "3\n"
     ]
    }
   ],
   "source": [
    "\"\"\"\n",
    "У вас есть список конфет разных типов, вам нужно собрать одинаковые наборы для своих друзей. \n",
    "Какому максимальному числу друзей вы сможете собрать наборы так, чтобы раздарить все конфеты. \n",
    "Реализуйте функцию на питоне, которая принимает на вход список конфет и отдает максимальное число друзей. \n",
    "Формат входных данных - список строк.\n",
    "\n",
    "Идея решения: \n",
    "нахожу кол-во каждой буквы, \n",
    "затем ищу НОД для количества двух букв, \n",
    "затем ищу НОД предыдущего НОД и следующей буквы\n",
    "и так далее, пока буквы не закончатся\n",
    "Получаем итоговый НОД\n",
    "\n",
    "Костылики: \n",
    "когда одна буква, просто кол-во\n",
    "Строка не введена => 0\n",
    "\"\"\"\n",
    "\n",
    "import math\n",
    "\n",
    "import fileinput\n",
    " \n",
    "candys=[]\n",
    "for line in fileinput.input():\n",
    "    candys.append(line.strip())\n",
    "\n",
    "#candys = input()\n",
    "#candys = list(candys)\n",
    "\n",
    "unique = []\n",
    "for i, _ in enumerate(candys):\n",
    "    if candys[i] not in unique:\n",
    "        unique.append(candys[i])\n",
    "\n",
    "counts = []\n",
    "for i, _ in enumerate(unique):        \n",
    "    a = candys.count(unique[i])\n",
    "    counts.append(a)\n",
    "\n",
    "gcd = []\n",
    "demo = []\n",
    "\n",
    "if len(unique) == 0:\n",
    "    print(0)\n",
    "else:\n",
    "    if len(unique) == 1:\n",
    "        print(counts[0])\n",
    "    else:\n",
    "        gcd.append(math.gcd(counts[0], counts[1]))\n",
    "        i = 2\n",
    "        while i < len(counts): \n",
    "            demo.append(math.gcd(gcd[0], counts[i]))\n",
    "            gcd.clear()\n",
    "            gcd.append(demo[0])\n",
    "            demo.clear()\n",
    "            i = i + 1\n",
    "        if not gcd:\n",
    "            print(0)\n",
    "        else:\n",
    "            print(gcd[0])"
   ]
  },
  {
   "cell_type": "code",
   "execution_count": 4,
   "id": "e9def8e6",
   "metadata": {},
   "outputs": [
    {
     "name": "stdout",
     "output_type": "stream",
     "text": [
      "3\n"
     ]
    }
   ],
   "source": [
    "import math\n",
    "\n",
    "import fileinput\n",
    "\n",
    "from collections import Counter\n",
    "\n",
    "\n",
    "candys=[]\n",
    "for line in fileinput.input():\n",
    "    candys.append(line.strip()) #candys = input()\n",
    "\n",
    "def compute_min_friends_number(candys):\n",
    "    count = dict(Counter(candys))\n",
    "    result = 0\n",
    "    for _, v in count.items():\n",
    "        result = math.gcd(result, v)\n",
    "    return result\n",
    "\n",
    "print(compute_min_friends_number(list(candys)))"
   ]
  },
  {
   "cell_type": "code",
   "execution_count": null,
   "id": "3a57327a",
   "metadata": {},
   "outputs": [],
   "source": [
    "#тесты\n",
    "#candys = ['a', 'a', 'a', 'b', 'b', 'b', 'b', 'c', 'c', 'c', 'c', 'c'] #1\n",
    "#candys = ['a', 'b', 'c', 'a', 'b', 'c', 'c', 'c']  #2\n",
    "#candys = ['a', 'b', 'c', 'a', 'b', 'c', 'c', 'c', 'e', 'e', 'e', 'e', 'e', 'e'] #2\n",
    "#candys = ['a', 'b', 'c', 'a', 'b', 'c', 'a', 'b', 'c', 'a', 'a', 'a']\n",
    "assert(compute_min_friends_number(list(\"ababc\")) == 1)\n",
    "assert(compute_min_friends_number(list(\"ababa\")) == 1)\n",
    "assert(compute_min_friends_number(list(\"abab\")) == 2)\n",
    "assert(compute_min_friends_number(list(\"a\")) == 1)\n",
    "assert(compute_min_friends_number(list(\"aa\")) == 2)\n",
    "assert(compute_min_friends_number(list(\"aaaa\")) == 4)\n",
    "assert(compute_min_friends_number(list(\"\")) == 0)\n",
    "assert(compute_min_friends_number(list(\"abbbbbbbba\")) == 2)\n",
    "assert(compute_min_friends_number(list(\"abbbbcbbbba\")) == 1)\n",
    "assert(compute_min_friends_number(list(\"aabbbbbbbbba\")) == 3)\n",
    "assert(compute_min_friends_number(list(\"aabbba\")) == 3)"
   ]
  },
  {
   "cell_type": "code",
   "execution_count": 6,
   "id": "d57a125f",
   "metadata": {},
   "outputs": [
    {
     "name": "stdout",
     "output_type": "stream",
     "text": [
      "['a', 'b', 'a', 'b', 'a', 'b', 'c', 'c', 'c']\n"
     ]
    }
   ],
   "source": [
    "with open(\"untitled.txt\") as f:\n",
    "    lines = f.read().splitlines()\n",
    "    print(lines)"
   ]
  },
  {
   "cell_type": "code",
   "execution_count": 8,
   "id": "7a733899",
   "metadata": {},
   "outputs": [
    {
     "name": "stdout",
     "output_type": "stream",
     "text": [
      "['a', 'b', 'a', 'b', 'a', 'b', 'c', 'c', 'c']\n"
     ]
    }
   ],
   "source": [
    "candys=[]\n",
    "for line in fileinput.input(\"untitled.txt\"):\n",
    "    candys.append(line.strip())\n",
    "print(candys)"
   ]
  },
  {
   "cell_type": "code",
   "execution_count": null,
   "id": "47dd5eb1",
   "metadata": {},
   "outputs": [],
   "source": [
    "#далее тупо разминка\n",
    "s = input()\n",
    "a,b = s.split()\n",
    "a,b = [int(a), int(b)]\n",
    "print(a+b)"
   ]
  },
  {
   "cell_type": "code",
   "execution_count": null,
   "id": "bcf24070",
   "metadata": {},
   "outputs": [],
   "source": [
    "s = open('input.txt') \n",
    "a,b = s.readline().split()\n",
    "a,b = [int(a), int(b)]\n",
    "out = open('output.txt', 'w') \n",
    "out.write(str(a+b)) # функция str преобразует числовое значение в символьное\n",
    "out.close()"
   ]
  },
  {
   "cell_type": "code",
   "execution_count": null,
   "id": "37184d79",
   "metadata": {},
   "outputs": [],
   "source": [
    "J = input()\n",
    "S = input()\n",
    "symbols = []\n",
    "inc = []\n",
    "for i in range(len(J)):\n",
    "    if J[i] not in symbols:\n",
    "        symbols.append(J[i])      \n",
    "for i in range(len(symbols)):        \n",
    "    a = S.count(symbols[i])\n",
    "    inc.append(a)\n",
    "print(sum(inc))"
   ]
  },
  {
   "cell_type": "markdown",
   "id": "8b4a14a9",
   "metadata": {},
   "source": []
  }
 ],
 "metadata": {
  "kernelspec": {
   "display_name": "Python 3 (ipykernel)",
   "language": "python",
   "name": "python3"
  },
  "language_info": {
   "codemirror_mode": {
    "name": "ipython",
    "version": 3
   },
   "file_extension": ".py",
   "mimetype": "text/x-python",
   "name": "python",
   "nbconvert_exporter": "python",
   "pygments_lexer": "ipython3",
   "version": "3.9.7"
  }
 },
 "nbformat": 4,
 "nbformat_minor": 5
}
