{
 "cells": [
  {
   "cell_type": "code",
   "execution_count": 369,
   "id": "34c5567c",
   "metadata": {},
   "outputs": [
    {
     "data": {
      "text/plain": [
       "2"
      ]
     },
     "execution_count": 369,
     "metadata": {},
     "output_type": "execute_result"
    }
   ],
   "source": [
    "import numpy as np\n",
    "#candys = ['a', 'a', 'a', 'b', 'b', 'b', 'b', 'c', 'c', 'c', 'c', 'c']\n",
    "candys = ['a', 'b', 'c', 'a', 'b', 'c', 'c', 'c'] \n",
    "def prime_f(n):\n",
    "    if n%2 == 0: return 2\n",
    "    i = 3\n",
    "    while n%i != 0 and i*i <= n:\n",
    "        i+= 2\n",
    "    if i*i <= n: return i\n",
    "    return n\n",
    "unique = []\n",
    "counts = []\n",
    "out = []\n",
    "qnt = []\n",
    "pers = []\n",
    "div = []\n",
    "for i in range(len(candys)):\n",
    "    if candys[i] not in unique:\n",
    "        unique.append(candys[i])\n",
    "#print(unique)\n",
    "for i in range(len(unique)):        \n",
    "    a = candys.count(unique[i])\n",
    "    counts.append(a)\n",
    "counts = np.asarray(counts)\n",
    "#print(counts)\n",
    "for x in counts:\n",
    "    out.append(prime_f(x))\n",
    "out = np.asarray(out)\n",
    "#print(out)\n",
    "min_mn  = min(out)\n",
    "b = max(counts/out)\n",
    "#print(b)\n",
    "b = b.astype(np.int64)\n",
    "a = counts\n",
    "for i in range(b):\n",
    "    a = a/min_mn\n",
    "    div.append(a)\n",
    "#print(div)\n",
    "for i in range(b):\n",
    "    for j in range(len(unique)):\n",
    "        if div[i][j].is_integer() == False: break\n",
    "        #print(i,j)\n",
    "        #print(div[i][j].is_integer())\n",
    "        pers.append(i)\n",
    "if not pers:\n",
    "    pers.append(-1)\n",
    "pers = np.asarray(pers)\n",
    "max(pers+2)"
   ]
  },
  {
   "cell_type": "code",
   "execution_count": null,
   "id": "78f2e618",
   "metadata": {},
   "outputs": [],
   "source": [
    "s = input()\n",
    "a,b = s.split()\n",
    "a,b = [int(a), int(b)]\n",
    "print(a+b)"
   ]
  },
  {
   "cell_type": "code",
   "execution_count": null,
   "id": "f6ce6451",
   "metadata": {},
   "outputs": [],
   "source": [
    "s = open('input.txt') \n",
    "a,b = s.readline().split()\n",
    "a,b = [int(a), int(b)]\n",
    "out = open('output.txt', 'w') \n",
    "out.write(str(a+b)) # функция str преобразует числовое значение в символьное\n",
    "out.close()"
   ]
  },
  {
   "cell_type": "code",
   "execution_count": 49,
   "id": "1d4fa148",
   "metadata": {},
   "outputs": [
    {
     "name": "stdout",
     "output_type": "stream",
     "text": [
      "6\n"
     ]
    }
   ],
   "source": [
    "J = input()\n",
    "S = input()\n",
    "symbols = []\n",
    "inc = []\n",
    "for i in range(len(J)):\n",
    "    if J[i] not in symbols:\n",
    "        symbols.append(J[i])      \n",
    "for i in range(len(symbols)):        \n",
    "    a = S.count(symbols[i])\n",
    "    inc.append(a)\n",
    "print(sum(inc))"
   ]
  }
 ],
 "metadata": {
  "kernelspec": {
   "display_name": "Python 3 (ipykernel)",
   "language": "python",
   "name": "python3"
  },
  "language_info": {
   "codemirror_mode": {
    "name": "ipython",
    "version": 3
   },
   "file_extension": ".py",
   "mimetype": "text/x-python",
   "name": "python",
   "nbconvert_exporter": "python",
   "pygments_lexer": "ipython3",
   "version": "3.9.7"
  }
 },
 "nbformat": 4,
 "nbformat_minor": 5
}
